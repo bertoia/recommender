{
 "cells": [
  {
   "cell_type": "code",
   "execution_count": 38,
   "metadata": {
    "collapsed": false,
    "scrolled": false
   },
   "outputs": [],
   "source": [
    "%matplotlib inline \n",
    "import pandas as pd\n",
    "import numpy as np\n",
    "\n",
    "import matplotlib.pyplot as plt\n",
    "import seaborn as sns\n",
    "\n",
    "import pprint\n",
    "pp = pprint.PrettyPrinter(indent=4)\n",
    "\n",
    "import GPy\n",
    "\n",
    "from sklearn import preprocessing\n",
    "from sklearn.model_selection import train_test_split"
   ]
  },
  {
   "cell_type": "code",
   "execution_count": 39,
   "metadata": {
    "collapsed": false,
    "scrolled": false
   },
   "outputs": [],
   "source": [
    "movie = pd.read_csv(r'data/movie_normal.csv')\n",
    "rating = pd.read_csv(r'data/rating.csv')\n",
    "# movie.head()\n",
    "# rating.head()"
   ]
  },
  {
   "cell_type": "code",
   "execution_count": 40,
   "metadata": {
    "collapsed": true
   },
   "outputs": [],
   "source": [
    "#user_id to train on\n",
    "id=4169"
   ]
  },
  {
   "cell_type": "code",
   "execution_count": 41,
   "metadata": {
    "collapsed": false,
    "scrolled": false
   },
   "outputs": [],
   "source": [
    "def get_train_for_user(id=1):\n",
    "    user_ratings = rating[rating['user_id']==id]\n",
    "    return pd.merge(user_ratings, movie, on='movie_id')\n",
    "\n",
    "def shuffle(df, f=.8):\n",
    "    df = df.reindex(np.random.permutation(df.index))\n",
    "    df.reset_index()\n",
    "    return df"
   ]
  },
  {
   "cell_type": "code",
   "execution_count": 42,
   "metadata": {
    "collapsed": false
   },
   "outputs": [],
   "source": [
    "# get all data for specified user\n",
    "data = get_train_for_user(id=id).drop(['user_id', 'movie_id', 'title'], axis=1)"
   ]
  },
  {
   "cell_type": "code",
   "execution_count": 43,
   "metadata": {
    "collapsed": false
   },
   "outputs": [
    {
     "data": {
      "text/plain": [
       "((2264, 25), (2264,))"
      ]
     },
     "execution_count": 43,
     "metadata": {},
     "output_type": "execute_result"
    }
   ],
   "source": [
    "# split into features and target\n",
    "X_data = data.ix[:,1:]\n",
    "Y_data = data.ix[:,0]\n",
    "X_data.shape, Y_data.shape"
   ]
  },
  {
   "cell_type": "code",
   "execution_count": 44,
   "metadata": {
    "collapsed": true
   },
   "outputs": [],
   "source": [
    "X_train, X_test, y_train, y_test = train_test_split(X_data, Y_data, test_size=0.3, random_state=0)"
   ]
  },
  {
   "cell_type": "code",
   "execution_count": 45,
   "metadata": {
    "collapsed": false,
    "scrolled": false
   },
   "outputs": [],
   "source": [
    "mm_scaler = preprocessing.MinMaxScaler()\n",
    "X_train_minmax = mm_scaler.fit_transform(X_train)"
   ]
  },
  {
   "cell_type": "code",
   "execution_count": 46,
   "metadata": {
    "collapsed": false
   },
   "outputs": [
    {
     "data": {
      "text/plain": [
       "(1584,)"
      ]
     },
     "execution_count": 46,
     "metadata": {},
     "output_type": "execute_result"
    }
   ],
   "source": [
    "y_train.values.shape"
   ]
  },
  {
   "cell_type": "code",
   "execution_count": 47,
   "metadata": {
    "collapsed": false,
    "scrolled": false
   },
   "outputs": [],
   "source": [
    "X_train1 = X_train_minmax\n",
    "y_train1 = y_train.values\n",
    "y_train1 = y_train1.reshape((1584,1))\n",
    "kernel = GPy.kern.RBF(input_dim=len(X_train_minmax[0]), variance=1., lengthscale=1.)"
   ]
  },
  {
   "cell_type": "code",
   "execution_count": 48,
   "metadata": {
    "collapsed": false
   },
   "outputs": [],
   "source": [
    "m = GPy.models.GPRegression(X_train1,y_train1,kernel)\n",
    "m.optimize()"
   ]
  },
  {
   "cell_type": "code",
   "execution_count": 49,
   "metadata": {
    "collapsed": false
   },
   "outputs": [],
   "source": [
    "X_test1 = mm_scaler.transform(X_test)"
   ]
  },
  {
   "cell_type": "code",
   "execution_count": 50,
   "metadata": {
    "collapsed": false
   },
   "outputs": [],
   "source": [
    "# predicted values and another output.\n",
    "# I guess it's the variance but I can't find docs on it\n",
    "Yhat, conf = m.predict(X_test1)"
   ]
  },
  {
   "cell_type": "code",
   "execution_count": 51,
   "metadata": {
    "collapsed": false
   },
   "outputs": [],
   "source": [
    "# probably there's a better way to do this...\n",
    "act=pd.DataFrame(y_test).reset_index(drop=True)\n",
    "prd=pd.DataFrame(Yhat)\n",
    "conf=pd.DataFrame(conf)\n",
    "diff=pd.concat([act, prd, conf], axis=1,join_axes=[act.index])"
   ]
  },
  {
   "cell_type": "code",
   "execution_count": 52,
   "metadata": {
    "collapsed": true
   },
   "outputs": [],
   "source": [
    "diff.columns=['actual', 'predicted', 'conf']"
   ]
  },
  {
   "cell_type": "code",
   "execution_count": 53,
   "metadata": {
    "collapsed": false
   },
   "outputs": [],
   "source": [
    "diff['residual'] = diff.apply(lambda r: r['predicted']-r['actual'], axis=1)\n",
    "diff['abs_residual'] = diff.apply(lambda r: abs(r['predicted']-r['actual']), axis=1)"
   ]
  },
  {
   "cell_type": "code",
   "execution_count": 54,
   "metadata": {
    "collapsed": false
   },
   "outputs": [
    {
     "name": "stdout",
     "output_type": "stream",
     "text": [
      "     actual  predicted      conf  residual  abs_residual\n163       5   2.346145  0.694532 -2.653855      2.653855\n563       5   2.451226  0.719291 -2.548774      2.548774\n203       5   2.756723  0.708371 -2.243277      2.243277\n133       5   2.777833  0.714102 -2.222167      2.222167\n371       5   2.854599  0.691869 -2.145401      2.145401\n     actual  predicted      conf  residual  abs_residual\n518       1   3.247893  0.691596  2.247893      2.247893\n119       1   3.312579  0.723393  2.312579      2.312579\n575       1   3.366000  0.690296  2.366000      2.366000\n501       1   3.928033  0.709684  2.928033      2.928033\n389       1   4.482198  0.700052  3.482198      3.482198\n"
     ]
    }
   ],
   "source": [
    "print(diff.sort_values(by='residual').head())\n",
    "print(diff.sort_values(by='residual').tail())"
   ]
  },
  {
   "cell_type": "code",
   "execution_count": 55,
   "metadata": {
    "collapsed": false
   },
   "outputs": [
    {
     "name": "stdout",
     "output_type": "stream",
     "text": [
      "     actual  predicted      conf  residual  abs_residual\n462       5   5.003377  0.723787  0.003377      0.003377\n169       3   2.995594  0.697093 -0.004406      0.004406\n82        3   2.994206  0.679701 -0.005794      0.005794\n650       4   4.008168  0.695069  0.008168      0.008168\n99        3   2.986495  0.751248 -0.013505      0.013505\n     actual  predicted      conf  residual  abs_residual\n575       1   3.366000  0.690296  2.366000      2.366000\n563       5   2.451226  0.719291 -2.548774      2.548774\n163       5   2.346145  0.694532 -2.653855      2.653855\n501       1   3.928033  0.709684  2.928033      2.928033\n389       1   4.482198  0.700052  3.482198      3.482198\n"
     ]
    }
   ],
   "source": [
    "print(diff.sort_values(by='abs_residual').head())\n",
    "print(diff.sort_values(by='abs_residual').tail())"
   ]
  },
  {
   "cell_type": "code",
   "execution_count": 33,
   "metadata": {},
   "outputs": [],
   "source": [
    "diff.describe()"
   ]
  },
  {
   "cell_type": "code",
   "execution_count": null,
   "outputs": [],
   "source": [
    ""
   ]
  }
 ],
 "metadata": {
  "kernelspec": {
   "display_name": "Python 3",
   "language": "python",
   "name": "python3"
  },
  "language_info": {
   "codemirror_mode": {
    "name": "ipython",
    "version": 3.0
   },
   "file_extension": ".py",
   "mimetype": "text/x-python",
   "name": "python",
   "nbconvert_exporter": "python",
   "pygments_lexer": "ipython3",
   "version": "3.5.1"
  }
 },
 "nbformat": 4,
 "nbformat_minor": 0
}